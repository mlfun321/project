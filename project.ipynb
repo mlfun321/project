{
 "cells": [
  {
   "cell_type": "markdown",
   "metadata": {},
   "source": [
    "# Przewidywanie cen domów"
   ]
  },
  {
   "cell_type": "code",
   "execution_count": 1,
   "metadata": {},
   "outputs": [],
   "source": [
    "import numpy as np\n",
    "import pandas as pd\n",
    "import matplotlib.pyplot as plt\n",
    "import seaborn as sns\n",
    "from sklearn.model_selection import train_test_split, GridSearchCV\n",
    "import sklearn.linear_model as linear_model\n",
    "from sklearn.metrics import r2_score, mean_squared_error, mean_absolute_error\n"
   ]
  },
  {
   "cell_type": "markdown",
   "metadata": {},
   "source": [
    "#### 1. Załadownie danych"
   ]
  },
  {
   "cell_type": "code",
   "execution_count": 2,
   "metadata": {},
   "outputs": [],
   "source": [
    "df = pd.read_csv('Dane/ames2000_NAfix.csv', delimiter=',', nrows=None)"
   ]
  },
  {
   "cell_type": "markdown",
   "metadata": {},
   "source": [
    "#### 2. Analiza danych"
   ]
  },
  {
   "cell_type": "code",
   "execution_count": 3,
   "metadata": {},
   "outputs": [
    {
     "name": "stdout",
     "output_type": "stream",
     "text": [
      "ilość wierszy 2000 ilosc kolumn 80\n"
     ]
    }
   ],
   "source": [
    "nRow, nCol = df.shape\n",
    "print(f'ilość wierszy {nRow} ilosc kolumn {nCol}')"
   ]
  },
  {
   "cell_type": "code",
   "execution_count": 4,
   "metadata": {},
   "outputs": [
    {
     "data": {
      "text/html": [
       "<div>\n",
       "<style scoped>\n",
       "    .dataframe tbody tr th:only-of-type {\n",
       "        vertical-align: middle;\n",
       "    }\n",
       "\n",
       "    .dataframe tbody tr th {\n",
       "        vertical-align: top;\n",
       "    }\n",
       "\n",
       "    .dataframe thead th {\n",
       "        text-align: right;\n",
       "    }\n",
       "</style>\n",
       "<table border=\"1\" class=\"dataframe\">\n",
       "  <thead>\n",
       "    <tr style=\"text-align: right;\">\n",
       "      <th></th>\n",
       "      <th>MS.SubClass</th>\n",
       "      <th>MS.Zoning</th>\n",
       "      <th>Lot.Frontage</th>\n",
       "      <th>Lot.Area</th>\n",
       "      <th>Street</th>\n",
       "      <th>Alley</th>\n",
       "      <th>Lot.Shape</th>\n",
       "      <th>Land.Contour</th>\n",
       "      <th>Utilities</th>\n",
       "      <th>Lot.Config</th>\n",
       "      <th>...</th>\n",
       "      <th>Pool.Area</th>\n",
       "      <th>Pool.QC</th>\n",
       "      <th>Fence</th>\n",
       "      <th>Misc.Feature</th>\n",
       "      <th>Misc.Val</th>\n",
       "      <th>Mo.Sold</th>\n",
       "      <th>Yr.Sold</th>\n",
       "      <th>Sale.Type</th>\n",
       "      <th>Sale.Condition</th>\n",
       "      <th>SalePrice</th>\n",
       "    </tr>\n",
       "  </thead>\n",
       "  <tbody>\n",
       "    <tr>\n",
       "      <th>0</th>\n",
       "      <td>120</td>\n",
       "      <td>RL</td>\n",
       "      <td>34</td>\n",
       "      <td>3901</td>\n",
       "      <td>Pave</td>\n",
       "      <td>None</td>\n",
       "      <td>Reg</td>\n",
       "      <td>Lvl</td>\n",
       "      <td>AllPub</td>\n",
       "      <td>Inside</td>\n",
       "      <td>...</td>\n",
       "      <td>0</td>\n",
       "      <td>None</td>\n",
       "      <td>None</td>\n",
       "      <td>None</td>\n",
       "      <td>0</td>\n",
       "      <td>8</td>\n",
       "      <td>2007</td>\n",
       "      <td>New</td>\n",
       "      <td>Partial</td>\n",
       "      <td>204000</td>\n",
       "    </tr>\n",
       "    <tr>\n",
       "      <th>1</th>\n",
       "      <td>20</td>\n",
       "      <td>RL</td>\n",
       "      <td>70</td>\n",
       "      <td>8400</td>\n",
       "      <td>Pave</td>\n",
       "      <td>None</td>\n",
       "      <td>Reg</td>\n",
       "      <td>Lvl</td>\n",
       "      <td>AllPub</td>\n",
       "      <td>Corner</td>\n",
       "      <td>...</td>\n",
       "      <td>0</td>\n",
       "      <td>None</td>\n",
       "      <td>MnPrv</td>\n",
       "      <td>None</td>\n",
       "      <td>0</td>\n",
       "      <td>4</td>\n",
       "      <td>2010</td>\n",
       "      <td>WD</td>\n",
       "      <td>Normal</td>\n",
       "      <td>126000</td>\n",
       "    </tr>\n",
       "    <tr>\n",
       "      <th>2</th>\n",
       "      <td>85</td>\n",
       "      <td>RL</td>\n",
       "      <td>60</td>\n",
       "      <td>7200</td>\n",
       "      <td>Pave</td>\n",
       "      <td>None</td>\n",
       "      <td>Reg</td>\n",
       "      <td>Lvl</td>\n",
       "      <td>AllPub</td>\n",
       "      <td>Inside</td>\n",
       "      <td>...</td>\n",
       "      <td>0</td>\n",
       "      <td>None</td>\n",
       "      <td>MnPrv</td>\n",
       "      <td>None</td>\n",
       "      <td>0</td>\n",
       "      <td>4</td>\n",
       "      <td>2009</td>\n",
       "      <td>WD</td>\n",
       "      <td>Normal</td>\n",
       "      <td>133900</td>\n",
       "    </tr>\n",
       "    <tr>\n",
       "      <th>3</th>\n",
       "      <td>90</td>\n",
       "      <td>RL</td>\n",
       "      <td>64</td>\n",
       "      <td>7018</td>\n",
       "      <td>Pave</td>\n",
       "      <td>None</td>\n",
       "      <td>Reg</td>\n",
       "      <td>Bnk</td>\n",
       "      <td>AllPub</td>\n",
       "      <td>Inside</td>\n",
       "      <td>...</td>\n",
       "      <td>0</td>\n",
       "      <td>None</td>\n",
       "      <td>None</td>\n",
       "      <td>None</td>\n",
       "      <td>0</td>\n",
       "      <td>6</td>\n",
       "      <td>2009</td>\n",
       "      <td>WD</td>\n",
       "      <td>Alloca</td>\n",
       "      <td>118858</td>\n",
       "    </tr>\n",
       "    <tr>\n",
       "      <th>4</th>\n",
       "      <td>60</td>\n",
       "      <td>RL</td>\n",
       "      <td>111</td>\n",
       "      <td>16259</td>\n",
       "      <td>Pave</td>\n",
       "      <td>None</td>\n",
       "      <td>Reg</td>\n",
       "      <td>Lvl</td>\n",
       "      <td>AllPub</td>\n",
       "      <td>Corner</td>\n",
       "      <td>...</td>\n",
       "      <td>0</td>\n",
       "      <td>None</td>\n",
       "      <td>None</td>\n",
       "      <td>None</td>\n",
       "      <td>0</td>\n",
       "      <td>9</td>\n",
       "      <td>2006</td>\n",
       "      <td>New</td>\n",
       "      <td>Partial</td>\n",
       "      <td>342643</td>\n",
       "    </tr>\n",
       "  </tbody>\n",
       "</table>\n",
       "<p>5 rows × 80 columns</p>\n",
       "</div>"
      ],
      "text/plain": [
       "   MS.SubClass MS.Zoning Lot.Frontage  Lot.Area Street Alley Lot.Shape  \\\n",
       "0          120        RL           34      3901   Pave  None       Reg   \n",
       "1           20        RL           70      8400   Pave  None       Reg   \n",
       "2           85        RL           60      7200   Pave  None       Reg   \n",
       "3           90        RL           64      7018   Pave  None       Reg   \n",
       "4           60        RL          111     16259   Pave  None       Reg   \n",
       "\n",
       "  Land.Contour Utilities Lot.Config  ... Pool.Area Pool.QC  Fence  \\\n",
       "0          Lvl    AllPub     Inside  ...         0    None   None   \n",
       "1          Lvl    AllPub     Corner  ...         0    None  MnPrv   \n",
       "2          Lvl    AllPub     Inside  ...         0    None  MnPrv   \n",
       "3          Bnk    AllPub     Inside  ...         0    None   None   \n",
       "4          Lvl    AllPub     Corner  ...         0    None   None   \n",
       "\n",
       "  Misc.Feature Misc.Val Mo.Sold  Yr.Sold  Sale.Type  Sale.Condition  SalePrice  \n",
       "0         None        0       8     2007        New         Partial     204000  \n",
       "1         None        0       4     2010        WD           Normal     126000  \n",
       "2         None        0       4     2009        WD           Normal     133900  \n",
       "3         None        0       6     2009        WD           Alloca     118858  \n",
       "4         None        0       9     2006        New         Partial     342643  \n",
       "\n",
       "[5 rows x 80 columns]"
      ]
     },
     "execution_count": 4,
     "metadata": {},
     "output_type": "execute_result"
    }
   ],
   "source": [
    "df.head(5)"
   ]
  },
  {
   "cell_type": "code",
   "execution_count": 5,
   "metadata": {},
   "outputs": [
    {
     "data": {
      "image/png": "[encoded data removed]",
      "text/plain": [
       "<Figure size 864x648 with 2 Axes>"
      ]
     },
     "metadata": {
      "needs_background": "light"
     },
     "output_type": "display_data"
    }
   ],
   "source": [
    "#macierz korealacji \n",
    "corrmat = df.corr()\n",
    "f, ax = plt.subplots(figsize=(12, 9))\n",
    "sns.heatmap(corrmat, vmax=.8, square=True);"
   ]
  },
  {
   "cell_type": "code",
   "execution_count": 6,
   "metadata": {},
   "outputs": [
    {
     "name": "stdout",
     "output_type": "stream",
     "text": [
      "<class 'pandas.core.frame.DataFrame'>\n",
      "RangeIndex: 2000 entries, 0 to 1999\n",
      "Data columns (total 80 columns):\n",
      "MS.SubClass        2000 non-null int64\n",
      "MS.Zoning          2000 non-null object\n",
      "Lot.Frontage       2000 non-null object\n",
      "Lot.Area           2000 non-null int64\n",
      "Street             2000 non-null object\n",
      "Alley              2000 non-null object\n",
      "Lot.Shape          2000 non-null object\n",
      "Land.Contour       2000 non-null object\n",
      "Utilities          2000 non-null object\n",
      "Lot.Config         2000 non-null object\n",
      "Land.Slope         2000 non-null object\n",
      "Neighborhood       2000 non-null object\n",
      "Condition.1        2000 non-null object\n",
      "Condition.2        2000 non-null object\n",
      "Bldg.Type          2000 non-null object\n",
      "House.Style        2000 non-null object\n",
      "Overall.Qual       2000 non-null int64\n",
      "Overall.Cond       2000 non-null int64\n",
      "Year.Built         2000 non-null int64\n",
      "Year.Remod.Add     2000 non-null int64\n",
      "Roof.Style         2000 non-null object\n",
      "Roof.Matl          2000 non-null object\n",
      "Exterior.1st       2000 non-null object\n",
      "Exterior.2nd       2000 non-null object\n",
      "Mas.Vnr.Type       1984 non-null object\n",
      "Mas.Vnr.Area       2000 non-null object\n",
      "Exter.Qual         2000 non-null object\n",
      "Exter.Cond         2000 non-null object\n",
      "Foundation         2000 non-null object\n",
      "Bsmt.Qual          1999 non-null object\n",
      "Bsmt.Cond          1999 non-null object\n",
      "Bsmt.Exposure      1997 non-null object\n",
      "BsmtFin.Type.1     1999 non-null object\n",
      "BsmtFin.SF.1       2000 non-null object\n",
      "BsmtFin.Type.2     1998 non-null object\n",
      "BsmtFin.SF.2       2000 non-null object\n",
      "Bsmt.Unf.SF        2000 non-null object\n",
      "Total.Bsmt.SF      2000 non-null object\n",
      "Heating            2000 non-null object\n",
      "Heating.QC         2000 non-null object\n",
      "Central.Air        2000 non-null object\n",
      "Electrical         2000 non-null object\n",
      "X1st.Flr.SF        2000 non-null int64\n",
      "X2nd.Flr.SF        2000 non-null int64\n",
      "Low.Qual.Fin.SF    2000 non-null int64\n",
      "Gr.Liv.Area        2000 non-null int64\n",
      "Bsmt.Full.Bath     2000 non-null object\n",
      "Bsmt.Half.Bath     2000 non-null object\n",
      "Full.Bath          2000 non-null int64\n",
      "Half.Bath          2000 non-null int64\n",
      "Bedroom.AbvGr      2000 non-null int64\n",
      "Kitchen.AbvGr      2000 non-null int64\n",
      "Kitchen.Qual       2000 non-null object\n",
      "TotRms.AbvGrd      2000 non-null int64\n",
      "Functional         2000 non-null object\n",
      "Fireplaces         2000 non-null int64\n",
      "Fireplace.Qu       2000 non-null object\n",
      "Garage.Type        2000 non-null object\n",
      "Garage.Yr.Blt      2000 non-null object\n",
      "Garage.Finish      1998 non-null object\n",
      "Garage.Cars        2000 non-null object\n",
      "Garage.Area        2000 non-null object\n",
      "Garage.Qual        1999 non-null object\n",
      "Garage.Cond        1999 non-null object\n",
      "Paved.Drive        2000 non-null object\n",
      "Wood.Deck.SF       2000 non-null int64\n",
      "Open.Porch.SF      2000 non-null int64\n",
      "Enclosed.Porch     2000 non-null int64\n",
      "X3Ssn.Porch        2000 non-null int64\n",
      "Screen.Porch       2000 non-null int64\n",
      "Pool.Area          2000 non-null int64\n",
      "Pool.QC            2000 non-null object\n",
      "Fence              2000 non-null object\n",
      "Misc.Feature       2000 non-null object\n",
      "Misc.Val           2000 non-null int64\n",
      "Mo.Sold            2000 non-null int64\n",
      "Yr.Sold            2000 non-null int64\n",
      "Sale.Type          2000 non-null object\n",
      "Sale.Condition     2000 non-null object\n",
      "SalePrice          2000 non-null int64\n",
      "dtypes: int64(26), object(54)\n",
      "memory usage: 1.2+ MB\n"
     ]
    }
   ],
   "source": [
    "df.info()"
   ]
  },
  {
   "cell_type": "markdown",
   "metadata": {},
   "source": [
    "#### wyszukanie kolumn zaawierajacych puste wartosci"
   ]
  },
  {
   "cell_type": "code",
   "execution_count": 7,
   "metadata": {},
   "outputs": [
    {
     "data": {
      "text/plain": [
       "['Mas.Vnr.Type',\n",
       " 'Bsmt.Qual',\n",
       " 'Bsmt.Cond',\n",
       " 'Bsmt.Exposure',\n",
       " 'BsmtFin.Type.1',\n",
       " 'BsmtFin.Type.2',\n",
       " 'Garage.Finish',\n",
       " 'Garage.Qual',\n",
       " 'Garage.Cond']"
      ]
     },
     "execution_count": 7,
     "metadata": {},
     "output_type": "execute_result"
    }
   ],
   "source": [
    "df.columns[df.isna().any()].tolist()"
   ]
  },
  {
   "cell_type": "markdown",
   "metadata": {},
   "source": [
    "#### uzupełnie pustych wartości"
   ]
  },
  {
   "cell_type": "code",
   "execution_count": 8,
   "metadata": {},
   "outputs": [],
   "source": [
    "df['Mas.Vnr.Type'] = df['Mas.Vnr.Type'].fillna('None')\n",
    "df['Bsmt.Qual'] = df['Bsmt.Qual'].fillna('None')\n",
    "df['Bsmt.Cond'] = df['Bsmt.Cond'].fillna('None')\n",
    "df['Bsmt.Exposure'] = df['Bsmt.Exposure'].fillna('None')\n",
    "df['BsmtFin.Type.1'] = df['BsmtFin.Type.1'].fillna('None')\n",
    "df['BsmtFin.Type.2'] = df['BsmtFin.Type.2'].fillna('None')\n",
    "df['Garage.Finish'] = df['Garage.Finish'].fillna('None')\n",
    "df['Garage.Qual'] = df['Garage.Qual'].fillna('None')\n",
    "df['Garage.Cond'] = df['Garage.Cond'].fillna('None')"
   ]
  },
  {
   "cell_type": "code",
   "execution_count": 9,
   "metadata": {},
   "outputs": [
    {
     "data": {
      "text/plain": [
       "[]"
      ]
     },
     "execution_count": 9,
     "metadata": {},
     "output_type": "execute_result"
    }
   ],
   "source": [
    "df.columns[df.isna().any()].tolist()"
   ]
  },
  {
   "cell_type": "markdown",
   "metadata": {},
   "source": [
    "#### patrzebujemy wartości numerycznych, przekształcamy kolumny z wartościami nie numerycznymi w zmienne dodatkowe"
   ]
  },
  {
   "cell_type": "code",
   "execution_count": 10,
   "metadata": {},
   "outputs": [],
   "source": [
    "data = pd.get_dummies(df)"
   ]
  },
  {
   "cell_type": "code",
   "execution_count": 11,
   "metadata": {},
   "outputs": [
    {
     "data": {
      "text/plain": [
       "[]"
      ]
     },
     "execution_count": 11,
     "metadata": {},
     "output_type": "execute_result"
    }
   ],
   "source": [
    "data.columns[data.isna().any()].tolist()"
   ]
  },
  {
   "cell_type": "markdown",
   "metadata": {},
   "source": [
    "#### wyciągnięcie do y  wartość prognozowanej"
   ]
  },
  {
   "cell_type": "code",
   "execution_count": 12,
   "metadata": {},
   "outputs": [
    {
     "data": {
      "text/plain": [
       "array([204000, 126000, 133900, ..., 233000, 134900, 180000])"
      ]
     },
     "execution_count": 12,
     "metadata": {},
     "output_type": "execute_result"
    }
   ],
   "source": [
    "y = data['SalePrice'].values\n",
    "y"
   ]
  },
  {
   "cell_type": "markdown",
   "metadata": {},
   "source": [
    "#### reszta przypisana do X"
   ]
  },
  {
   "cell_type": "code",
   "execution_count": 13,
   "metadata": {},
   "outputs": [
    {
     "data": {
      "text/plain": [
       "array([[  120,  3901,     6, ...,     0,     0,     1],\n",
       "       [   20,  8400,     4, ...,     0,     1,     0],\n",
       "       [   85,  7200,     5, ...,     0,     1,     0],\n",
       "       ...,\n",
       "       [   60, 10142,     7, ...,     0,     1,     0],\n",
       "       [   85,  7252,     5, ...,     0,     1,     0],\n",
       "       [  160,  2998,     6, ...,     0,     1,     0]])"
      ]
     },
     "execution_count": 13,
     "metadata": {},
     "output_type": "execute_result"
    }
   ],
   "source": [
    "X = data.drop('SalePrice', axis=1).values\n",
    "X"
   ]
  },
  {
   "cell_type": "markdown",
   "metadata": {},
   "source": [
    "sprawdzam X"
   ]
  },
  {
   "cell_type": "code",
   "execution_count": 14,
   "metadata": {},
   "outputs": [
    {
     "data": {
      "text/plain": [
       "(2000, 4254)"
      ]
     },
     "execution_count": 14,
     "metadata": {},
     "output_type": "execute_result"
    }
   ],
   "source": [
    "X.shape"
   ]
  },
  {
   "cell_type": "markdown",
   "metadata": {},
   "source": [
    "sprawdzam y"
   ]
  },
  {
   "cell_type": "code",
   "execution_count": 15,
   "metadata": {},
   "outputs": [
    {
     "data": {
      "text/plain": [
       "(2000,)"
      ]
     },
     "execution_count": 15,
     "metadata": {},
     "output_type": "execute_result"
    }
   ],
   "source": [
    "y.shape"
   ]
  },
  {
   "cell_type": "code",
   "execution_count": 16,
   "metadata": {},
   "outputs": [
    {
     "data": {
      "text/plain": [
       "(2000, 1)"
      ]
     },
     "execution_count": 16,
     "metadata": {},
     "output_type": "execute_result"
    }
   ],
   "source": [
    "y=y.reshape(-1,1)\n",
    "y.shape"
   ]
  },
  {
   "cell_type": "markdown",
   "metadata": {},
   "source": [
    "#### podział testu na zestwaw treningowy testowy, model będzie uczony na zestawie treningowym a zestaw testowy zostanie wykorzystany do jego oceny"
   ]
  },
  {
   "cell_type": "code",
   "execution_count": 17,
   "metadata": {},
   "outputs": [],
   "source": [
    "\n",
    "X_train, X_test,y_train, y_test= train_test_split(X,y,test_size=0.3,random_state=42)"
   ]
  },
  {
   "cell_type": "markdown",
   "metadata": {},
   "source": [
    "### A. model regresji liniowej"
   ]
  },
  {
   "cell_type": "code",
   "execution_count": 18,
   "metadata": {},
   "outputs": [],
   "source": [
    "model= linear_model.LinearRegression()\n",
    "model.fit(X_train,y_train)\n",
    "y_pred = model.predict(X_test)\n"
   ]
  },
  {
   "cell_type": "markdown",
   "metadata": {},
   "source": [
    "#### miary błędu, miary dopasowania "
   ]
  },
  {
   "cell_type": "code",
   "execution_count": 19,
   "metadata": {},
   "outputs": [
    {
     "name": "stdout",
     "output_type": "stream",
     "text": [
      "R2 : 0.8217597232958219\n",
      "\n",
      "MAE: 20643.796919884087\n",
      "MSE: 1262171413.4139392\n",
      "RMSE: 35527.0518536782\n",
      "\n",
      "Predict value [[130111.44881597]]\n",
      "Real value [137000]\n"
     ]
    }
   ],
   "source": [
    "#dopasowanie do modelu \n",
    "R2= model.score(X_test ,y_test)\n",
    "print(\"R2 :\", R2)\n",
    "print()\n",
    "#ceny mieszkan odchylają się o średni błąd bezwzgędny od wartośći rzeczywistej\n",
    "print('MAE:', mean_absolute_error(y_test, y_pred))\n",
    "#błąd średniokwadratowy\n",
    "print('MSE:', mean_squared_error(y_test, y_pred))\n",
    "print('RMSE:', np.sqrt(mean_squared_error(y_test, y_pred)))\n",
    "\n",
    "#Wartość przewidywana a prawdziwa\n",
    "print()\n",
    "print(\"Predict value \" + str(model.predict([X_test[130]])))\n",
    "print(\"Real value \" + str(y_test[130]))"
   ]
  },
  {
   "cell_type": "markdown",
   "metadata": {},
   "source": [
    "##### wykres wartości przewidywanych od prawdziwych"
   ]
  },
  {
   "cell_type": "code",
   "execution_count": 20,
   "metadata": {},
   "outputs": [],
   "source": [
    "predictions = model.predict(X_test)\n",
    "predictions = predictions.reshape(-1,1)"
   ]
  },
  {
   "cell_type": "code",
   "execution_count": 21,
   "metadata": {},
   "outputs": [
    {
     "data": {
      "image/png": "[encoded data removed]",
      "text/plain": [
       "<Figure size 1080x576 with 1 Axes>"
      ]
     },
     "metadata": {
      "needs_background": "light"
     },
     "output_type": "display_data"
    }
   ],
   "source": [
    "plt.figure(figsize=(15,8))\n",
    "plt.scatter(y_test,predictions)\n",
    "plt.xlabel('Y Test')\n",
    "plt.ylabel('Predicted Y')\n",
    "plt.show()"
   ]
  },
  {
   "cell_type": "markdown",
   "metadata": {},
   "source": [
    "### B. Drzewo regresyjne\n"
   ]
  },
  {
   "cell_type": "code",
   "execution_count": 22,
   "metadata": {},
   "outputs": [
    {
     "data": {
      "text/plain": [
       "DecisionTreeRegressor(criterion='mse', max_depth=None, max_features=None,\n",
       "           max_leaf_nodes=None, min_impurity_decrease=0.0,\n",
       "           min_impurity_split=None, min_samples_leaf=1,\n",
       "           min_samples_split=2, min_weight_fraction_leaf=0.0,\n",
       "           presort=False, random_state=42, splitter='best')"
      ]
     },
     "execution_count": 22,
     "metadata": {},
     "output_type": "execute_result"
    }
   ],
   "source": [
    "from sklearn.tree import DecisionTreeRegressor\n",
    "dtreg = DecisionTreeRegressor(random_state = 42)\n",
    "dtreg.fit(X_train, y_train)"
   ]
  },
  {
   "cell_type": "code",
   "execution_count": 23,
   "metadata": {},
   "outputs": [],
   "source": [
    "dtr_pred = dtreg.predict(X_test)\n",
    "dtr_pred= dtr_pred.reshape(-1,1)"
   ]
  },
  {
   "cell_type": "code",
   "execution_count": 24,
   "metadata": {},
   "outputs": [
    {
     "name": "stdout",
     "output_type": "stream",
     "text": [
      "R2 : 0.7308671690190423\n",
      "MAE: 24102.786666666667\n",
      "MSE: 1905808114.51\n",
      "RMSE: 43655.56224022318\n"
     ]
    }
   ],
   "source": [
    "#dopasowanie do modelu \n",
    "R2= dtreg.score(X_test ,y_test)\n",
    "print(\"R2 :\", R2)\n",
    "\n",
    "print('MAE:', mean_absolute_error(y_test, dtr_pred))\n",
    "print('MSE:', mean_squared_error(y_test, dtr_pred))\n",
    "print('RMSE:', np.sqrt(mean_squared_error(y_test, dtr_pred)))"
   ]
  },
  {
   "cell_type": "code",
   "execution_count": 25,
   "metadata": {},
   "outputs": [
    {
     "data": {
      "image/png": "[encoded data removed]",
      "text/plain": [
       "<Figure size 1080x576 with 1 Axes>"
      ]
     },
     "metadata": {
      "needs_background": "light"
     },
     "output_type": "display_data"
    }
   ],
   "source": [
    "plt.figure(figsize=(15,8))\n",
    "plt.scatter(y_test,dtr_pred)\n",
    "plt.xlabel('Y Test')\n",
    "plt.ylabel('Predicted Y')\n",
    "plt.show()"
   ]
  },
  {
   "cell_type": "markdown",
   "metadata": {},
   "source": [
    "### C. Las losowy "
   ]
  },
  {
   "cell_type": "code",
   "execution_count": 26,
   "metadata": {},
   "outputs": [
    {
     "name": "stderr",
     "output_type": "stream",
     "text": [
      "/home/laptop/anaconda3/lib/python3.7/site-packages/ipykernel_launcher.py:3: DataConversionWarning: A column-vector y was passed when a 1d array was expected. Please change the shape of y to (n_samples,), for example using ravel().\n",
      "  This is separate from the ipykernel package so we can avoid doing imports until\n"
     ]
    },
    {
     "data": {
      "text/plain": [
       "RandomForestRegressor(bootstrap=True, criterion='mse', max_depth=None,\n",
       "           max_features='auto', max_leaf_nodes=None,\n",
       "           min_impurity_decrease=0.0, min_impurity_split=None,\n",
       "           min_samples_leaf=1, min_samples_split=2,\n",
       "           min_weight_fraction_leaf=0.0, n_estimators=100, n_jobs=None,\n",
       "           oob_score=False, random_state=42, verbose=0, warm_start=False)"
      ]
     },
     "execution_count": 26,
     "metadata": {},
     "output_type": "execute_result"
    }
   ],
   "source": [
    "from sklearn.ensemble import RandomForestRegressor\n",
    "rfr = RandomForestRegressor(n_estimators = 100, random_state = 42)\n",
    "rfr.fit(X_train, y_train)"
   ]
  },
  {
   "cell_type": "code",
   "execution_count": null,
   "metadata": {},
   "outputs": [],
   "source": []
  },
  {
   "cell_type": "code",
   "execution_count": 27,
   "metadata": {},
   "outputs": [],
   "source": [
    "rfr_pred= rfr.predict(X_test)\n",
    "rfr_pred = rfr_pred.reshape(-1,1)"
   ]
  },
  {
   "cell_type": "code",
   "execution_count": 28,
   "metadata": {},
   "outputs": [
    {
     "name": "stdout",
     "output_type": "stream",
     "text": [
      "R2 : 0.858534388644556\n",
      "MAE: 17352.374\n",
      "MSE: 1001759276.4979268\n",
      "RMSE: 31650.58098199663\n"
     ]
    }
   ],
   "source": [
    "print(\"R2 :\", rfr.score(X_test ,y_test))\n",
    "print('MAE:', mean_absolute_error(y_test, rfr_pred))\n",
    "print('MSE:', mean_squared_error(y_test, rfr_pred))\n",
    "print('RMSE:', np.sqrt(mean_squared_error(y_test, rfr_pred)))"
   ]
  },
  {
   "cell_type": "code",
   "execution_count": 29,
   "metadata": {},
   "outputs": [
    {
     "data": {
      "image/png": "[encoded data removed]",
      "text/plain": [
       "<Figure size 1080x576 with 1 Axes>"
      ]
     },
     "metadata": {
      "needs_background": "light"
     },
     "output_type": "display_data"
    }
   ],
   "source": [
    "plt.figure(figsize=(15,8))\n",
    "plt.scatter(y_test,rfr_pred)\n",
    "plt.xlabel('Y Test')\n",
    "plt.ylabel('Predicted Y')\n",
    "plt.show()"
   ]
  },
  {
   "cell_type": "markdown",
   "metadata": {},
   "source": [
    "### Podsumowanie"
   ]
  },
  {
   "cell_type": "code",
   "execution_count": 30,
   "metadata": {},
   "outputs": [
    {
     "name": "stdout",
     "output_type": "stream",
     "text": [
      "regresja liniowa\n",
      "R2: 0.8217597232958219\n",
      "MAE: 20643.796919884087\n",
      "MSE: 1262171413.4139392\n",
      "RMSE: 35527.0518536782\n",
      "\n",
      "drzewo decyzyjne\n",
      "R2 : 0.7308671690190423\n",
      "MAE: 24102.786666666667\n",
      "MSE: 1905808114.51\n",
      "RMSE: 43655.56224022318\n",
      "\n",
      "las losowy\n",
      "R2 : 0.858534388644556\n",
      "MAE: 17352.374\n",
      "MSE: 1001759276.4979268\n",
      "RMSE: 31650.58098199663\n",
      "\n",
      "las losowy wypadł najlepiej\n"
     ]
    }
   ],
   "source": [
    "print(\"regresja liniowa\")\n",
    "print(\"R2:\", model.score(X_test ,y_test))\n",
    "print('MAE:', mean_absolute_error(y_test, y_pred))\n",
    "print('MSE:', mean_squared_error(y_test, y_pred))\n",
    "print('RMSE:', np.sqrt(mean_squared_error(y_test, y_pred)))\n",
    "print(\"\")\n",
    "print(\"drzewo decyzyjne\")\n",
    "print(\"R2 :\", dtreg.score(X_test ,y_test))\n",
    "print('MAE:', mean_absolute_error(y_test, dtr_pred))\n",
    "print('MSE:', mean_squared_error(y_test, dtr_pred))\n",
    "print('RMSE:', np.sqrt(mean_squared_error(y_test, dtr_pred)))\n",
    "print(\"\")\n",
    "print(\"las losowy\")\n",
    "print(\"R2 :\", rfr.score(X_test ,y_test))\n",
    "print('MAE:', mean_absolute_error(y_test, rfr_pred))\n",
    "print('MSE:', mean_squared_error(y_test, rfr_pred))\n",
    "print('RMSE:', np.sqrt(mean_squared_error(y_test, rfr_pred)))\n",
    "print('')\n",
    "print('las losowy wypadł najlepiej')"
   ]
  },
  {
   "cell_type": "code",
   "execution_count": null,
   "metadata": {},
   "outputs": [],
   "source": []
  },
  {
   "cell_type": "code",
   "execution_count": null,
   "metadata": {},
   "outputs": [],
   "source": []
  },
  {
   "cell_type": "code",
   "execution_count": null,
   "metadata": {},
   "outputs": [],
   "source": []
  },
  {
   "cell_type": "code",
   "execution_count": null,
   "metadata": {},
   "outputs": [],
   "source": []
  }
 ],
 "metadata": {
  "kernelspec": {
   "display_name": "Python 3",
   "language": "python",
   "name": "python3"
  },
  "language_info": {
   "codemirror_mode": {
    "name": "ipython",
    "version": 3
   },
   "file_extension": ".py",
   "mimetype": "text/x-python",
   "name": "python",
   "nbconvert_exporter": "python",
   "pygments_lexer": "ipython3",
   "version": "3.7.3"
  }
 },
 "nbformat": 4,
 "nbformat_minor": 2
}
