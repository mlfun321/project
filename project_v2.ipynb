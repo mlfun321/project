{
 "cells": [
  {
   "cell_type": "markdown",
   "metadata": {},
   "source": [
    "# Przewidywanie cen domów v2"
   ]
  },
  {
   "cell_type": "code",
   "execution_count": 1,
   "metadata": {},
   "outputs": [],
   "source": [
    "import numpy as np\n",
    "import pandas as pd\n",
    "import matplotlib.pyplot as plt\n",
    "import seaborn as sns\n",
    "from sklearn.model_selection import train_test_split, GridSearchCV\n",
    "from sklearn.tree import DecisionTreeRegressor\n",
    "from sklearn.ensemble import RandomForestRegressor\n",
    "from sklearn import linear_model\n",
    "from sklearn.metrics import r2_score, mean_squared_error, mean_absolute_error\n"
   ]
  },
  {
   "cell_type": "markdown",
   "metadata": {},
   "source": [
    "#### 1. Załadownie danych"
   ]
  },
  {
   "cell_type": "code",
   "execution_count": 2,
   "metadata": {},
   "outputs": [],
   "source": [
    "df = pd.read_csv('Dane/ames2000_NAfix.csv', delimiter=',', nrows=None)"
   ]
  },
  {
   "cell_type": "markdown",
   "metadata": {},
   "source": [
    "#### 2. Analiza danych"
   ]
  },
  {
   "cell_type": "code",
   "execution_count": 3,
   "metadata": {},
   "outputs": [
    {
     "name": "stdout",
     "output_type": "stream",
     "text": [
      "ilość wierszy 2000 ilosc kolumn 80\n"
     ]
    }
   ],
   "source": [
    "nRow, nCol = df.shape\n",
    "print(f'ilość wierszy {nRow} ilosc kolumn {nCol}')"
   ]
  },
  {
   "cell_type": "code",
   "execution_count": 4,
   "metadata": {},
   "outputs": [
    {
     "data": {
      "text/html": [
       "<div>\n",
       "<style scoped>\n",
       "    .dataframe tbody tr th:only-of-type {\n",
       "        vertical-align: middle;\n",
       "    }\n",
       "\n",
       "    .dataframe tbody tr th {\n",
       "        vertical-align: top;\n",
       "    }\n",
       "\n",
       "    .dataframe thead th {\n",
       "        text-align: right;\n",
       "    }\n",
       "</style>\n",
       "<table border=\"1\" class=\"dataframe\">\n",
       "  <thead>\n",
       "    <tr style=\"text-align: right;\">\n",
       "      <th></th>\n",
       "      <th>MS.SubClass</th>\n",
       "      <th>MS.Zoning</th>\n",
       "      <th>Lot.Frontage</th>\n",
       "      <th>Lot.Area</th>\n",
       "      <th>Street</th>\n",
       "      <th>Alley</th>\n",
       "      <th>Lot.Shape</th>\n",
       "      <th>Land.Contour</th>\n",
       "      <th>Utilities</th>\n",
       "      <th>Lot.Config</th>\n",
       "      <th>...</th>\n",
       "      <th>Pool.Area</th>\n",
       "      <th>Pool.QC</th>\n",
       "      <th>Fence</th>\n",
       "      <th>Misc.Feature</th>\n",
       "      <th>Misc.Val</th>\n",
       "      <th>Mo.Sold</th>\n",
       "      <th>Yr.Sold</th>\n",
       "      <th>Sale.Type</th>\n",
       "      <th>Sale.Condition</th>\n",
       "      <th>SalePrice</th>\n",
       "    </tr>\n",
       "  </thead>\n",
       "  <tbody>\n",
       "    <tr>\n",
       "      <th>0</th>\n",
       "      <td>120</td>\n",
       "      <td>RL</td>\n",
       "      <td>34</td>\n",
       "      <td>3901</td>\n",
       "      <td>Pave</td>\n",
       "      <td>None</td>\n",
       "      <td>Reg</td>\n",
       "      <td>Lvl</td>\n",
       "      <td>AllPub</td>\n",
       "      <td>Inside</td>\n",
       "      <td>...</td>\n",
       "      <td>0</td>\n",
       "      <td>None</td>\n",
       "      <td>None</td>\n",
       "      <td>None</td>\n",
       "      <td>0</td>\n",
       "      <td>8</td>\n",
       "      <td>2007</td>\n",
       "      <td>New</td>\n",
       "      <td>Partial</td>\n",
       "      <td>204000</td>\n",
       "    </tr>\n",
       "    <tr>\n",
       "      <th>1</th>\n",
       "      <td>20</td>\n",
       "      <td>RL</td>\n",
       "      <td>70</td>\n",
       "      <td>8400</td>\n",
       "      <td>Pave</td>\n",
       "      <td>None</td>\n",
       "      <td>Reg</td>\n",
       "      <td>Lvl</td>\n",
       "      <td>AllPub</td>\n",
       "      <td>Corner</td>\n",
       "      <td>...</td>\n",
       "      <td>0</td>\n",
       "      <td>None</td>\n",
       "      <td>MnPrv</td>\n",
       "      <td>None</td>\n",
       "      <td>0</td>\n",
       "      <td>4</td>\n",
       "      <td>2010</td>\n",
       "      <td>WD</td>\n",
       "      <td>Normal</td>\n",
       "      <td>126000</td>\n",
       "    </tr>\n",
       "    <tr>\n",
       "      <th>2</th>\n",
       "      <td>85</td>\n",
       "      <td>RL</td>\n",
       "      <td>60</td>\n",
       "      <td>7200</td>\n",
       "      <td>Pave</td>\n",
       "      <td>None</td>\n",
       "      <td>Reg</td>\n",
       "      <td>Lvl</td>\n",
       "      <td>AllPub</td>\n",
       "      <td>Inside</td>\n",
       "      <td>...</td>\n",
       "      <td>0</td>\n",
       "      <td>None</td>\n",
       "      <td>MnPrv</td>\n",
       "      <td>None</td>\n",
       "      <td>0</td>\n",
       "      <td>4</td>\n",
       "      <td>2009</td>\n",
       "      <td>WD</td>\n",
       "      <td>Normal</td>\n",
       "      <td>133900</td>\n",
       "    </tr>\n",
       "    <tr>\n",
       "      <th>3</th>\n",
       "      <td>90</td>\n",
       "      <td>RL</td>\n",
       "      <td>64</td>\n",
       "      <td>7018</td>\n",
       "      <td>Pave</td>\n",
       "      <td>None</td>\n",
       "      <td>Reg</td>\n",
       "      <td>Bnk</td>\n",
       "      <td>AllPub</td>\n",
       "      <td>Inside</td>\n",
       "      <td>...</td>\n",
       "      <td>0</td>\n",
       "      <td>None</td>\n",
       "      <td>None</td>\n",
       "      <td>None</td>\n",
       "      <td>0</td>\n",
       "      <td>6</td>\n",
       "      <td>2009</td>\n",
       "      <td>WD</td>\n",
       "      <td>Alloca</td>\n",
       "      <td>118858</td>\n",
       "    </tr>\n",
       "    <tr>\n",
       "      <th>4</th>\n",
       "      <td>60</td>\n",
       "      <td>RL</td>\n",
       "      <td>111</td>\n",
       "      <td>16259</td>\n",
       "      <td>Pave</td>\n",
       "      <td>None</td>\n",
       "      <td>Reg</td>\n",
       "      <td>Lvl</td>\n",
       "      <td>AllPub</td>\n",
       "      <td>Corner</td>\n",
       "      <td>...</td>\n",
       "      <td>0</td>\n",
       "      <td>None</td>\n",
       "      <td>None</td>\n",
       "      <td>None</td>\n",
       "      <td>0</td>\n",
       "      <td>9</td>\n",
       "      <td>2006</td>\n",
       "      <td>New</td>\n",
       "      <td>Partial</td>\n",
       "      <td>342643</td>\n",
       "    </tr>\n",
       "  </tbody>\n",
       "</table>\n",
       "<p>5 rows × 80 columns</p>\n",
       "</div>"
      ],
      "text/plain": [
       "   MS.SubClass MS.Zoning Lot.Frontage  Lot.Area Street Alley Lot.Shape  \\\n",
       "0          120        RL           34      3901   Pave  None       Reg   \n",
       "1           20        RL           70      8400   Pave  None       Reg   \n",
       "2           85        RL           60      7200   Pave  None       Reg   \n",
       "3           90        RL           64      7018   Pave  None       Reg   \n",
       "4           60        RL          111     16259   Pave  None       Reg   \n",
       "\n",
       "  Land.Contour Utilities Lot.Config  ... Pool.Area Pool.QC  Fence  \\\n",
       "0          Lvl    AllPub     Inside  ...         0    None   None   \n",
       "1          Lvl    AllPub     Corner  ...         0    None  MnPrv   \n",
       "2          Lvl    AllPub     Inside  ...         0    None  MnPrv   \n",
       "3          Bnk    AllPub     Inside  ...         0    None   None   \n",
       "4          Lvl    AllPub     Corner  ...         0    None   None   \n",
       "\n",
       "  Misc.Feature Misc.Val Mo.Sold  Yr.Sold  Sale.Type  Sale.Condition  SalePrice  \n",
       "0         None        0       8     2007        New         Partial     204000  \n",
       "1         None        0       4     2010        WD           Normal     126000  \n",
       "2         None        0       4     2009        WD           Normal     133900  \n",
       "3         None        0       6     2009        WD           Alloca     118858  \n",
       "4         None        0       9     2006        New         Partial     342643  \n",
       "\n",
       "[5 rows x 80 columns]"
      ]
     },
     "execution_count": 4,
     "metadata": {},
     "output_type": "execute_result"
    }
   ],
   "source": [
    "df.head(5)"
   ]
  },
  {
   "cell_type": "code",
   "execution_count": 5,
   "metadata": {},
   "outputs": [
    {
     "data": {
      "image/png": "[encoded data removed]",
      "text/plain": [
       "<Figure size 864x648 with 2 Axes>"
      ]
     },
     "metadata": {
      "needs_background": "light"
     },
     "output_type": "display_data"
    }
   ],
   "source": [
    "#macierz korealacji \n",
    "corrmat = df.corr()\n",
    "f, ax = plt.subplots(figsize=(12, 9))\n",
    "sns.heatmap(corrmat, vmax=.8, square=True);"
   ]
  },
  {
   "cell_type": "code",
   "execution_count": 6,
   "metadata": {},
   "outputs": [
    {
     "name": "stdout",
     "output_type": "stream",
     "text": [
      "<class 'pandas.core.frame.DataFrame'>\n",
      "RangeIndex: 2000 entries, 0 to 1999\n",
      "Data columns (total 80 columns):\n",
      "MS.SubClass        2000 non-null int64\n",
      "MS.Zoning          2000 non-null object\n",
      "Lot.Frontage       2000 non-null object\n",
      "Lot.Area           2000 non-null int64\n",
      "Street             2000 non-null object\n",
      "Alley              2000 non-null object\n",
      "Lot.Shape          2000 non-null object\n",
      "Land.Contour       2000 non-null object\n",
      "Utilities          2000 non-null object\n",
      "Lot.Config         2000 non-null object\n",
      "Land.Slope         2000 non-null object\n",
      "Neighborhood       2000 non-null object\n",
      "Condition.1        2000 non-null object\n",
      "Condition.2        2000 non-null object\n",
      "Bldg.Type          2000 non-null object\n",
      "House.Style        2000 non-null object\n",
      "Overall.Qual       2000 non-null int64\n",
      "Overall.Cond       2000 non-null int64\n",
      "Year.Built         2000 non-null int64\n",
      "Year.Remod.Add     2000 non-null int64\n",
      "Roof.Style         2000 non-null object\n",
      "Roof.Matl          2000 non-null object\n",
      "Exterior.1st       2000 non-null object\n",
      "Exterior.2nd       2000 non-null object\n",
      "Mas.Vnr.Type       1984 non-null object\n",
      "Mas.Vnr.Area       2000 non-null object\n",
      "Exter.Qual         2000 non-null object\n",
      "Exter.Cond         2000 non-null object\n",
      "Foundation         2000 non-null object\n",
      "Bsmt.Qual          1999 non-null object\n",
      "Bsmt.Cond          1999 non-null object\n",
      "Bsmt.Exposure      1997 non-null object\n",
      "BsmtFin.Type.1     1999 non-null object\n",
      "BsmtFin.SF.1       2000 non-null object\n",
      "BsmtFin.Type.2     1998 non-null object\n",
      "BsmtFin.SF.2       2000 non-null object\n",
      "Bsmt.Unf.SF        2000 non-null object\n",
      "Total.Bsmt.SF      2000 non-null object\n",
      "Heating            2000 non-null object\n",
      "Heating.QC         2000 non-null object\n",
      "Central.Air        2000 non-null object\n",
      "Electrical         2000 non-null object\n",
      "X1st.Flr.SF        2000 non-null int64\n",
      "X2nd.Flr.SF        2000 non-null int64\n",
      "Low.Qual.Fin.SF    2000 non-null int64\n",
      "Gr.Liv.Area        2000 non-null int64\n",
      "Bsmt.Full.Bath     2000 non-null object\n",
      "Bsmt.Half.Bath     2000 non-null object\n",
      "Full.Bath          2000 non-null int64\n",
      "Half.Bath          2000 non-null int64\n",
      "Bedroom.AbvGr      2000 non-null int64\n",
      "Kitchen.AbvGr      2000 non-null int64\n",
      "Kitchen.Qual       2000 non-null object\n",
      "TotRms.AbvGrd      2000 non-null int64\n",
      "Functional         2000 non-null object\n",
      "Fireplaces         2000 non-null int64\n",
      "Fireplace.Qu       2000 non-null object\n",
      "Garage.Type        2000 non-null object\n",
      "Garage.Yr.Blt      2000 non-null object\n",
      "Garage.Finish      1998 non-null object\n",
      "Garage.Cars        2000 non-null object\n",
      "Garage.Area        2000 non-null object\n",
      "Garage.Qual        1999 non-null object\n",
      "Garage.Cond        1999 non-null object\n",
      "Paved.Drive        2000 non-null object\n",
      "Wood.Deck.SF       2000 non-null int64\n",
      "Open.Porch.SF      2000 non-null int64\n",
      "Enclosed.Porch     2000 non-null int64\n",
      "X3Ssn.Porch        2000 non-null int64\n",
      "Screen.Porch       2000 non-null int64\n",
      "Pool.Area          2000 non-null int64\n",
      "Pool.QC            2000 non-null object\n",
      "Fence              2000 non-null object\n",
      "Misc.Feature       2000 non-null object\n",
      "Misc.Val           2000 non-null int64\n",
      "Mo.Sold            2000 non-null int64\n",
      "Yr.Sold            2000 non-null int64\n",
      "Sale.Type          2000 non-null object\n",
      "Sale.Condition     2000 non-null object\n",
      "SalePrice          2000 non-null int64\n",
      "dtypes: int64(26), object(54)\n",
      "memory usage: 1.2+ MB\n"
     ]
    }
   ],
   "source": [
    "df.info()"
   ]
  },
  {
   "cell_type": "markdown",
   "metadata": {},
   "source": [
    "#### wyszukanie kolumn zaawierajacych puste wartosci"
   ]
  },
  {
   "cell_type": "code",
   "execution_count": 7,
   "metadata": {},
   "outputs": [
    {
     "data": {
      "text/plain": [
       "['Mas.Vnr.Type',\n",
       " 'Bsmt.Qual',\n",
       " 'Bsmt.Cond',\n",
       " 'Bsmt.Exposure',\n",
       " 'BsmtFin.Type.1',\n",
       " 'BsmtFin.Type.2',\n",
       " 'Garage.Finish',\n",
       " 'Garage.Qual',\n",
       " 'Garage.Cond']"
      ]
     },
     "execution_count": 7,
     "metadata": {},
     "output_type": "execute_result"
    }
   ],
   "source": [
    "df.columns[df.isna().any()].tolist()"
   ]
  },
  {
   "cell_type": "markdown",
   "metadata": {},
   "source": [
    "#### uzupełnie pustych wartości"
   ]
  },
  {
   "cell_type": "code",
   "execution_count": 8,
   "metadata": {},
   "outputs": [],
   "source": [
    "df['Mas.Vnr.Type'] = df['Mas.Vnr.Type'].fillna('None')\n",
    "df['Bsmt.Qual'] = df['Bsmt.Qual'].fillna('None')\n",
    "df['Bsmt.Cond'] = df['Bsmt.Cond'].fillna('None')\n",
    "df['Bsmt.Exposure'] = df['Bsmt.Exposure'].fillna('None')\n",
    "df['BsmtFin.Type.1'] = df['BsmtFin.Type.1'].fillna('None')\n",
    "df['BsmtFin.Type.2'] = df['BsmtFin.Type.2'].fillna('None')\n",
    "df['Garage.Finish'] = df['Garage.Finish'].fillna('None')\n",
    "df['Garage.Qual'] = df['Garage.Qual'].fillna('None')\n",
    "df['Garage.Cond'] = df['Garage.Cond'].fillna('None')"
   ]
  },
  {
   "cell_type": "code",
   "execution_count": 9,
   "metadata": {},
   "outputs": [
    {
     "data": {
      "text/plain": [
       "[]"
      ]
     },
     "execution_count": 9,
     "metadata": {},
     "output_type": "execute_result"
    }
   ],
   "source": [
    "df.columns[df.isna().any()].tolist()"
   ]
  },
  {
   "cell_type": "code",
   "execution_count": null,
   "metadata": {},
   "outputs": [],
   "source": []
  },
  {
   "cell_type": "markdown",
   "metadata": {},
   "source": [
    "#### patrzebujemy wartości numerycznych, przekształcamy kolumny z wartościami nie numerycznymi w zmienne dodatkowe, tylko zmienne kategoryczne"
   ]
  },
  {
   "cell_type": "code",
   "execution_count": 10,
   "metadata": {},
   "outputs": [],
   "source": [
    "non_dummy_cols = df.select_dtypes(include=[np.number])\n",
    "\n",
    "dummy_cols = list(set(df.columns) - set(non_dummy_cols))\n",
    "data = pd.get_dummies(df, columns=dummy_cols)\n"
   ]
  },
  {
   "cell_type": "code",
   "execution_count": 11,
   "metadata": {},
   "outputs": [
    {
     "data": {
      "text/plain": [
       "[]"
      ]
     },
     "execution_count": 11,
     "metadata": {},
     "output_type": "execute_result"
    }
   ],
   "source": [
    "data.columns[data.isna().any()].tolist()"
   ]
  },
  {
   "cell_type": "code",
   "execution_count": 12,
   "metadata": {},
   "outputs": [
    {
     "data": {
      "text/html": [
       "<div>\n",
       "<style scoped>\n",
       "    .dataframe tbody tr th:only-of-type {\n",
       "        vertical-align: middle;\n",
       "    }\n",
       "\n",
       "    .dataframe tbody tr th {\n",
       "        vertical-align: top;\n",
       "    }\n",
       "\n",
       "    .dataframe thead th {\n",
       "        text-align: right;\n",
       "    }\n",
       "</style>\n",
       "<table border=\"1\" class=\"dataframe\">\n",
       "  <thead>\n",
       "    <tr style=\"text-align: right;\">\n",
       "      <th></th>\n",
       "      <th>MS.SubClass</th>\n",
       "      <th>Lot.Area</th>\n",
       "      <th>Overall.Qual</th>\n",
       "      <th>Overall.Cond</th>\n",
       "      <th>Year.Built</th>\n",
       "      <th>Year.Remod.Add</th>\n",
       "      <th>X1st.Flr.SF</th>\n",
       "      <th>X2nd.Flr.SF</th>\n",
       "      <th>Low.Qual.Fin.SF</th>\n",
       "      <th>Gr.Liv.Area</th>\n",
       "      <th>...</th>\n",
       "      <th>Sale.Type_ConLw</th>\n",
       "      <th>Sale.Type_New</th>\n",
       "      <th>Sale.Type_Oth</th>\n",
       "      <th>Sale.Type_VWD</th>\n",
       "      <th>Sale.Type_WD</th>\n",
       "      <th>Lot.Config_Corner</th>\n",
       "      <th>Lot.Config_CulDSac</th>\n",
       "      <th>Lot.Config_FR2</th>\n",
       "      <th>Lot.Config_FR3</th>\n",
       "      <th>Lot.Config_Inside</th>\n",
       "    </tr>\n",
       "  </thead>\n",
       "  <tbody>\n",
       "    <tr>\n",
       "      <th>0</th>\n",
       "      <td>120</td>\n",
       "      <td>3901</td>\n",
       "      <td>6</td>\n",
       "      <td>5</td>\n",
       "      <td>2005</td>\n",
       "      <td>2006</td>\n",
       "      <td>1302</td>\n",
       "      <td>0</td>\n",
       "      <td>0</td>\n",
       "      <td>1302</td>\n",
       "      <td>...</td>\n",
       "      <td>0</td>\n",
       "      <td>1</td>\n",
       "      <td>0</td>\n",
       "      <td>0</td>\n",
       "      <td>0</td>\n",
       "      <td>0</td>\n",
       "      <td>0</td>\n",
       "      <td>0</td>\n",
       "      <td>0</td>\n",
       "      <td>1</td>\n",
       "    </tr>\n",
       "    <tr>\n",
       "      <th>1</th>\n",
       "      <td>20</td>\n",
       "      <td>8400</td>\n",
       "      <td>4</td>\n",
       "      <td>5</td>\n",
       "      <td>1970</td>\n",
       "      <td>1970</td>\n",
       "      <td>882</td>\n",
       "      <td>0</td>\n",
       "      <td>0</td>\n",
       "      <td>882</td>\n",
       "      <td>...</td>\n",
       "      <td>0</td>\n",
       "      <td>0</td>\n",
       "      <td>0</td>\n",
       "      <td>0</td>\n",
       "      <td>1</td>\n",
       "      <td>1</td>\n",
       "      <td>0</td>\n",
       "      <td>0</td>\n",
       "      <td>0</td>\n",
       "      <td>0</td>\n",
       "    </tr>\n",
       "    <tr>\n",
       "      <th>2</th>\n",
       "      <td>85</td>\n",
       "      <td>7200</td>\n",
       "      <td>5</td>\n",
       "      <td>8</td>\n",
       "      <td>1972</td>\n",
       "      <td>2003</td>\n",
       "      <td>768</td>\n",
       "      <td>0</td>\n",
       "      <td>0</td>\n",
       "      <td>768</td>\n",
       "      <td>...</td>\n",
       "      <td>0</td>\n",
       "      <td>0</td>\n",
       "      <td>0</td>\n",
       "      <td>0</td>\n",
       "      <td>1</td>\n",
       "      <td>0</td>\n",
       "      <td>0</td>\n",
       "      <td>0</td>\n",
       "      <td>0</td>\n",
       "      <td>1</td>\n",
       "    </tr>\n",
       "    <tr>\n",
       "      <th>3</th>\n",
       "      <td>90</td>\n",
       "      <td>7018</td>\n",
       "      <td>5</td>\n",
       "      <td>5</td>\n",
       "      <td>1979</td>\n",
       "      <td>1979</td>\n",
       "      <td>1535</td>\n",
       "      <td>0</td>\n",
       "      <td>0</td>\n",
       "      <td>1535</td>\n",
       "      <td>...</td>\n",
       "      <td>0</td>\n",
       "      <td>0</td>\n",
       "      <td>0</td>\n",
       "      <td>0</td>\n",
       "      <td>1</td>\n",
       "      <td>0</td>\n",
       "      <td>0</td>\n",
       "      <td>0</td>\n",
       "      <td>0</td>\n",
       "      <td>1</td>\n",
       "    </tr>\n",
       "    <tr>\n",
       "      <th>4</th>\n",
       "      <td>60</td>\n",
       "      <td>16259</td>\n",
       "      <td>9</td>\n",
       "      <td>5</td>\n",
       "      <td>2006</td>\n",
       "      <td>2006</td>\n",
       "      <td>1249</td>\n",
       "      <td>1347</td>\n",
       "      <td>0</td>\n",
       "      <td>2596</td>\n",
       "      <td>...</td>\n",
       "      <td>0</td>\n",
       "      <td>1</td>\n",
       "      <td>0</td>\n",
       "      <td>0</td>\n",
       "      <td>0</td>\n",
       "      <td>1</td>\n",
       "      <td>0</td>\n",
       "      <td>0</td>\n",
       "      <td>0</td>\n",
       "      <td>0</td>\n",
       "    </tr>\n",
       "  </tbody>\n",
       "</table>\n",
       "<p>5 rows × 4255 columns</p>\n",
       "</div>"
      ],
      "text/plain": [
       "   MS.SubClass  Lot.Area  Overall.Qual  Overall.Cond  Year.Built  \\\n",
       "0          120      3901             6             5        2005   \n",
       "1           20      8400             4             5        1970   \n",
       "2           85      7200             5             8        1972   \n",
       "3           90      7018             5             5        1979   \n",
       "4           60     16259             9             5        2006   \n",
       "\n",
       "   Year.Remod.Add  X1st.Flr.SF  X2nd.Flr.SF  Low.Qual.Fin.SF  Gr.Liv.Area  \\\n",
       "0            2006         1302            0                0         1302   \n",
       "1            1970          882            0                0          882   \n",
       "2            2003          768            0                0          768   \n",
       "3            1979         1535            0                0         1535   \n",
       "4            2006         1249         1347                0         2596   \n",
       "\n",
       "   ...  Sale.Type_ConLw  Sale.Type_New  Sale.Type_Oth  Sale.Type_VWD  \\\n",
       "0  ...                0              1              0              0   \n",
       "1  ...                0              0              0              0   \n",
       "2  ...                0              0              0              0   \n",
       "3  ...                0              0              0              0   \n",
       "4  ...                0              1              0              0   \n",
       "\n",
       "   Sale.Type_WD   Lot.Config_Corner  Lot.Config_CulDSac  Lot.Config_FR2  \\\n",
       "0              0                  0                   0               0   \n",
       "1              1                  1                   0               0   \n",
       "2              1                  0                   0               0   \n",
       "3              1                  0                   0               0   \n",
       "4              0                  1                   0               0   \n",
       "\n",
       "   Lot.Config_FR3  Lot.Config_Inside  \n",
       "0               0                  1  \n",
       "1               0                  0  \n",
       "2               0                  1  \n",
       "3               0                  1  \n",
       "4               0                  0  \n",
       "\n",
       "[5 rows x 4255 columns]"
      ]
     },
     "execution_count": 12,
     "metadata": {},
     "output_type": "execute_result"
    }
   ],
   "source": [
    "data.head(5)"
   ]
  },
  {
   "cell_type": "markdown",
   "metadata": {},
   "source": [
    "#### wyciągnięcie do y  wartość prognozowanej"
   ]
  },
  {
   "cell_type": "code",
   "execution_count": 13,
   "metadata": {},
   "outputs": [
    {
     "data": {
      "text/plain": [
       "array([204000, 126000, 133900, ..., 233000, 134900, 180000])"
      ]
     },
     "execution_count": 13,
     "metadata": {},
     "output_type": "execute_result"
    }
   ],
   "source": [
    "y = data['SalePrice'].values\n",
    "y"
   ]
  },
  {
   "cell_type": "markdown",
   "metadata": {},
   "source": [
    "#### reszta przypisana do X"
   ]
  },
  {
   "cell_type": "code",
   "execution_count": 14,
   "metadata": {},
   "outputs": [
    {
     "data": {
      "text/plain": [
       "array([[  120,  3901,     6, ...,     0,     0,     1],\n",
       "       [   20,  8400,     4, ...,     0,     0,     0],\n",
       "       [   85,  7200,     5, ...,     0,     0,     1],\n",
       "       ...,\n",
       "       [   60, 10142,     7, ...,     0,     0,     1],\n",
       "       [   85,  7252,     5, ...,     0,     0,     0],\n",
       "       [  160,  2998,     6, ...,     0,     0,     1]])"
      ]
     },
     "execution_count": 14,
     "metadata": {},
     "output_type": "execute_result"
    }
   ],
   "source": [
    "X = data.drop('SalePrice', axis=1).values\n",
    "X"
   ]
  },
  {
   "cell_type": "markdown",
   "metadata": {},
   "source": [
    "sprawdzam X"
   ]
  },
  {
   "cell_type": "code",
   "execution_count": 15,
   "metadata": {},
   "outputs": [
    {
     "data": {
      "text/plain": [
       "(2000, 4254)"
      ]
     },
     "execution_count": 15,
     "metadata": {},
     "output_type": "execute_result"
    }
   ],
   "source": [
    "X.shape"
   ]
  },
  {
   "cell_type": "markdown",
   "metadata": {},
   "source": [
    "sprawdzam y"
   ]
  },
  {
   "cell_type": "code",
   "execution_count": 16,
   "metadata": {},
   "outputs": [
    {
     "data": {
      "text/plain": [
       "(2000,)"
      ]
     },
     "execution_count": 16,
     "metadata": {},
     "output_type": "execute_result"
    }
   ],
   "source": [
    "y.shape"
   ]
  },
  {
   "cell_type": "code",
   "execution_count": 17,
   "metadata": {},
   "outputs": [
    {
     "data": {
      "text/plain": [
       "(2000, 1)"
      ]
     },
     "execution_count": 17,
     "metadata": {},
     "output_type": "execute_result"
    }
   ],
   "source": [
    "y=y.reshape(-1,1)\n",
    "y.shape"
   ]
  },
  {
   "cell_type": "markdown",
   "metadata": {},
   "source": [
    "#### podział testu na zestwaw treningowy testowy, model będzie uczony na zestawie treningowym a zestaw testowy zostanie wykorzystany do jego oceny"
   ]
  },
  {
   "cell_type": "code",
   "execution_count": 18,
   "metadata": {},
   "outputs": [],
   "source": [
    "\n",
    "X_train, X_test,y_train, y_test= train_test_split(X,y,test_size=0.3,random_state=42)"
   ]
  },
  {
   "cell_type": "markdown",
   "metadata": {},
   "source": [
    "### Wybór najlepszego modelu"
   ]
  },
  {
   "cell_type": "code",
   "execution_count": 19,
   "metadata": {},
   "outputs": [],
   "source": [
    "from sklearn.pipeline import Pipeline\n",
    "from sklearn.model_selection import GridSearchCV, train_test_split"
   ]
  },
  {
   "cell_type": "code",
   "execution_count": 21,
   "metadata": {},
   "outputs": [
    {
     "name": "stdout",
     "output_type": "stream",
     "text": [
      "Pipeline(memory=None,\n",
      "     steps=[('model', LinearRegression(copy_X=True, fit_intercept=True, n_jobs=None,\n",
      "         normalize=False))])\n",
      "R2 : 0.8217579115310835\n",
      "MAE: 20643.889144259574\n",
      "MSE: 1262184243.0487611\n",
      "RMSE: 35527.23241470916\n"
     ]
    },
    {
     "data": {
      "image/png": "[encoded data removed]",
      "text/plain": [
       "<Figure size 1080x576 with 1 Axes>"
      ]
     },
     "metadata": {
      "needs_background": "light"
     },
     "output_type": "display_data"
    },
    {
     "name": "stdout",
     "output_type": "stream",
     "text": [
      "Pipeline(memory=None,\n",
      "     steps=[('model', DecisionTreeRegressor(criterion='mse', max_depth=10, max_features=None,\n",
      "           max_leaf_nodes=None, min_impurity_decrease=0.0,\n",
      "           min_impurity_split=None, min_samples_leaf=1,\n",
      "           min_samples_split=2, min_weight_fraction_leaf=0.0,\n",
      "           presort=False, random_state=42, splitter='best'))])\n",
      "R2 : 0.7762168659710804\n",
      "MAE: 23585.729381293593\n",
      "MSE: 1584673676.445553\n",
      "RMSE: 39807.95996337357\n"
     ]
    },
    {
     "data": {
      "image/png": "[encoded data removed]",
      "text/plain": [
       "<Figure size 1080x576 with 1 Axes>"
      ]
     },
     "metadata": {
      "needs_background": "light"
     },
     "output_type": "display_data"
    },
    {
     "name": "stdout",
     "output_type": "stream",
     "text": [
      "Pipeline(memory=None,\n",
      "     steps=[('model', Ridge(alpha=1.0, copy_X=True, fit_intercept=True, max_iter=None,\n",
      "   normalize=False, random_state=None, solver='auto', tol=0.001))])\n",
      "R2 : 0.8382357034623995\n",
      "MAE: 18052.03355823614\n",
      "MSE: 1145500189.8344152\n",
      "RMSE: 33845.238805988876\n"
     ]
    },
    {
     "data": {
      "image/png": "[encoded data removed]",
      "text/plain": [
       "<Figure size 1080x576 with 1 Axes>"
      ]
     },
     "metadata": {
      "needs_background": "light"
     },
     "output_type": "display_data"
    },
    {
     "name": "stdout",
     "output_type": "stream",
     "text": [
      "Pipeline(memory=None,\n",
      "     steps=[('model', RandomForestRegressor(bootstrap=True, criterion='mse', max_depth=None,\n",
      "           max_features='auto', max_leaf_nodes=None,\n",
      "           min_impurity_decrease=0.0, min_impurity_split=None,\n",
      "           min_samples_leaf=1, min_samples_split=2,\n",
      "           min_weight_fraction_leaf=0.0, n_estimators=100, n_jobs=None,\n",
      "           oob_score=False, random_state=None, verbose=0, warm_start=False))])\n",
      "R2 : 0.8640768347891998\n",
      "MAE: 17213.810483333335\n",
      "MSE: 962511597.9512528\n",
      "RMSE: 31024.371032323168\n"
     ]
    },
    {
     "data": {
      "image/png": "[encoded data removed]",
      "text/plain": [
       "<Figure size 1080x576 with 1 Axes>"
      ]
     },
     "metadata": {
      "needs_background": "light"
     },
     "output_type": "display_data"
    }
   ],
   "source": [
    "models = [[(\"model\", linear_model.LinearRegression())] ,\n",
    "         [ (\"model\", DecisionTreeRegressor())],\n",
    "         [ (\"model\", linear_model.Ridge())],\n",
    "         [ (\"model\", RandomForestRegressor())]]\n",
    "\n",
    "param_grids = [{},\n",
    "               {\"model__max_depth\": [None, 2, 10, 100], \n",
    "                \"model__random_state\": [42]} ,\n",
    "               {\"model__alpha\":[0.2, 0.5, 0.7, 1.0]},\n",
    "               {\"model__n_estimators\": [2, 5, 10, 100]}\n",
    "              ]\n",
    "best_models = []\n",
    "\n",
    "list= []\n",
    "i = 0\n",
    "models_name = ['LinearRegression', 'DecisionTreeRegressor', 'Ridge', 'RandomForestRegressor']\n",
    "\n",
    "for pipe, params in zip(models, param_grids):\n",
    "    pipeline = Pipeline(pipe)\n",
    "    gs = GridSearchCV(estimator=pipeline, param_grid=params, cv=10)\n",
    "    gs.fit(X_train, y_train.ravel())\n",
    "    best_models.append(gs.best_estimator_)   \n",
    "    \n",
    "for best_model in best_models:\n",
    "    print(best_model)\n",
    "    #dopasowanie do model\n",
    "    r2 = best_model.score(X_test ,y_test)\n",
    "    print(\"R2 :\", r2)\n",
    "    model_pred= best_model.predict(X_test)\n",
    "    model_pred = model_pred.reshape(-1,1)\n",
    "    #ceny mieszkan odchylają się o średni błąd bezwzgędny od wartośći rzeczywistej\n",
    "    mae =  mean_absolute_error(y_test, model_pred)\n",
    "    print('MAE:', mae)\n",
    "    #błąd średniokwadratowy\n",
    "    mse = mean_squared_error(y_test, model_pred)\n",
    "    print('MSE:', mse)\n",
    "    rmse = np.sqrt(mean_squared_error(y_test, model_pred))\n",
    "    print('RMSE:', rmse)\n",
    "    \n",
    "    #wykres wartości przewidywanych od prawdziwych\n",
    "    plt.figure(figsize=(15,8))\n",
    "    plt.scatter(y_test, model_pred)\n",
    "    plt.xlabel('Y Test')\n",
    "    plt.ylabel('Predicted Y')\n",
    "    plt.show()\n",
    "    \n",
    "    d = {'best models': models_name[i],\n",
    "        'R2': r2, \n",
    "        'MAE': mae, \n",
    "        'MSE': mse,\n",
    "        'RMSE' : rmse\n",
    "    }\n",
    "    list.append(d)\n",
    "    i = i+1\n",
    "    "
   ]
  },
  {
   "cell_type": "markdown",
   "metadata": {},
   "source": [
    "### Podsumowanie"
   ]
  },
  {
   "cell_type": "code",
   "execution_count": 23,
   "metadata": {},
   "outputs": [
    {
     "data": {
      "text/html": [
       "<div>\n",
       "<style scoped>\n",
       "    .dataframe tbody tr th:only-of-type {\n",
       "        vertical-align: middle;\n",
       "    }\n",
       "\n",
       "    .dataframe tbody tr th {\n",
       "        vertical-align: top;\n",
       "    }\n",
       "\n",
       "    .dataframe thead th {\n",
       "        text-align: right;\n",
       "    }\n",
       "</style>\n",
       "<table border=\"1\" class=\"dataframe\">\n",
       "  <thead>\n",
       "    <tr style=\"text-align: right;\">\n",
       "      <th></th>\n",
       "      <th>MAE</th>\n",
       "      <th>MSE</th>\n",
       "      <th>R2</th>\n",
       "      <th>RMSE</th>\n",
       "      <th>best models</th>\n",
       "    </tr>\n",
       "  </thead>\n",
       "  <tbody>\n",
       "    <tr>\n",
       "      <th>0</th>\n",
       "      <td>20643.889144</td>\n",
       "      <td>1.262184e+09</td>\n",
       "      <td>0.821758</td>\n",
       "      <td>35527.232415</td>\n",
       "      <td>LinearRegression</td>\n",
       "    </tr>\n",
       "    <tr>\n",
       "      <th>1</th>\n",
       "      <td>23585.729381</td>\n",
       "      <td>1.584674e+09</td>\n",
       "      <td>0.776217</td>\n",
       "      <td>39807.959963</td>\n",
       "      <td>DecisionTreeRegressor</td>\n",
       "    </tr>\n",
       "    <tr>\n",
       "      <th>2</th>\n",
       "      <td>18052.033558</td>\n",
       "      <td>1.145500e+09</td>\n",
       "      <td>0.838236</td>\n",
       "      <td>33845.238806</td>\n",
       "      <td>Ridge</td>\n",
       "    </tr>\n",
       "    <tr>\n",
       "      <th>3</th>\n",
       "      <td>17213.810483</td>\n",
       "      <td>9.625116e+08</td>\n",
       "      <td>0.864077</td>\n",
       "      <td>31024.371032</td>\n",
       "      <td>RandomForestRegressor</td>\n",
       "    </tr>\n",
       "  </tbody>\n",
       "</table>\n",
       "</div>"
      ],
      "text/plain": [
       "            MAE           MSE        R2          RMSE            best models\n",
       "0  20643.889144  1.262184e+09  0.821758  35527.232415       LinearRegression\n",
       "1  23585.729381  1.584674e+09  0.776217  39807.959963  DecisionTreeRegressor\n",
       "2  18052.033558  1.145500e+09  0.838236  33845.238806                  Ridge\n",
       "3  17213.810483  9.625116e+08  0.864077  31024.371032  RandomForestRegressor"
      ]
     },
     "execution_count": 23,
     "metadata": {},
     "output_type": "execute_result"
    }
   ],
   "source": [
    "# zebranie wyników\n",
    "df2 = pd.DataFrame(list)\n",
    "df2"
   ]
  },
  {
   "cell_type": "markdown",
   "metadata": {},
   "source": [
    "#### najlepsze wyniki uzyskał RandomForestRegressor"
   ]
  }
 ],
 "metadata": {
  "kernelspec": {
   "display_name": "Python 3",
   "language": "python",
   "name": "python3"
  },
  "language_info": {
   "codemirror_mode": {
    "name": "ipython",
    "version": 3
   },
   "file_extension": ".py",
   "mimetype": "text/x-python",
   "name": "python",
   "nbconvert_exporter": "python",
   "pygments_lexer": "ipython3",
   "version": "3.7.3"
  }
 },
 "nbformat": 4,
 "nbformat_minor": 2
}
